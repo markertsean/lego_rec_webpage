{
 "cells": [
  {
   "cell_type": "code",
   "execution_count": 1,
   "metadata": {
    "collapsed": false
   },
   "outputs": [],
   "source": [
    "import sys\n",
    "\n",
    "sys.path.append('/home/sean/Insight/legos/tensorbox/')\n",
    "\n",
    "import pred_location as pl"
   ]
  },
  {
   "cell_type": "code",
   "execution_count": 2,
   "metadata": {
    "collapsed": true
   },
   "outputs": [],
   "source": [
    "import matplotlib.pyplot as plt\n",
    "import PIL.Image as Image\n",
    "from matplotlib.patches import Rectangle\n",
    "plt.style.use('dark_background')\n",
    "%matplotlib inline\n",
    "\n",
    "#rect = Rectangle((x - xe[0], y - ye[0]), xe.sum(), ye.sum())"
   ]
  },
  {
   "cell_type": "code",
   "execution_count": 3,
   "metadata": {
    "collapsed": true
   },
   "outputs": [],
   "source": [
    "#sample_image = '/home/sean/Insight/legos/tensorbox/sample_lego_brick.jpg'\n",
    "sample_image = '/home/sean/Desktop/lego_images_bounding_box/1300.jpg'"
   ]
  },
  {
   "cell_type": "code",
   "execution_count": 4,
   "metadata": {
    "collapsed": false
   },
   "outputs": [],
   "source": [
    "box_dict = pl.pred_lego_locations( sample_image )"
   ]
  },
  {
   "cell_type": "code",
   "execution_count": 8,
   "metadata": {
    "collapsed": false
   },
   "outputs": [
    {
     "data": {
      "image/png": "[encoded data removed]",
      "text/plain": [
       "<matplotlib.figure.Figure at 0x7f004be025d0>"
      ]
     },
     "metadata": {},
     "output_type": "display_data"
    }
   ],
   "source": [
    "lego_img = Image.open( sample_image )\n",
    "\n",
    "fig, ax = plt.subplots(1)\n",
    "ax.imshow( lego_img )\n",
    "\n",
    "x_size = lego_img.size[0]\n",
    "y_size = lego_img.size[1]\n",
    "\n",
    "for box in box_dict:\n",
    "    rect = Rectangle( ( box['x1']*x_size/640., box['y1']*y_size/480. ), \n",
    "                     (box['x2']-box['x1'])*x_size/640., \n",
    "                     (box['y2']-box['y1'])*y_size/480, linewidth=1,edgecolor='r',facecolor='None' )\n",
    "    ax.add_patch(rect)\n",
    "    \n",
    "ax.axis('off')\n",
    "#plt.show()\n",
    "plt.savefig('out_/out_img.jpg')"
   ]
  },
  {
   "cell_type": "code",
   "execution_count": null,
   "metadata": {
    "collapsed": true
   },
   "outputs": [],
   "source": []
  }
 ],
 "metadata": {
  "kernelspec": {
   "display_name": "Python 2",
   "language": "python",
   "name": "python2"
  },
  "language_info": {
   "codemirror_mode": {
    "name": "ipython",
    "version": 2
   },
   "file_extension": ".py",
   "mimetype": "text/x-python",
   "name": "python",
   "nbconvert_exporter": "python",
   "pygments_lexer": "ipython2",
   "version": "2.7.13"
  }
 },
 "nbformat": 4,
 "nbformat_minor": 2
}
